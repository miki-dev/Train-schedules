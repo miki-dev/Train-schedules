import requests
from bs4 import BeautifulSoup
import json
import re
import pandas as pd
from pandas import DataFrame as df
